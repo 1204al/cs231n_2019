{
 "cells": [
  {
   "cell_type": "markdown",
   "metadata": {
    "tags": [
     "pdf-title"
    ]
   },
   "source": [
    "# Softmax exercise\n",
    "\n",
    "*Complete and hand in this completed worksheet (including its outputs and any supporting code outside of the worksheet) with your assignment submission. For more details see the [assignments page](http://vision.stanford.edu/teaching/cs231n/assignments.html) on the course website.*\n",
    "\n",
    "This exercise is analogous to the SVM exercise. You will:\n",
    "\n",
    "- implement a fully-vectorized **loss function** for the Softmax classifier\n",
    "- implement the fully-vectorized expression for its **analytic gradient**\n",
    "- **check your implementation** with numerical gradient\n",
    "- use a validation set to **tune the learning rate and regularization** strength\n",
    "- **optimize** the loss function with **SGD**\n",
    "- **visualize** the final learned weights\n"
   ]
  },
  {
   "cell_type": "code",
   "execution_count": 1,
   "metadata": {
    "tags": [
     "pdf-ignore"
    ]
   },
   "outputs": [],
   "source": [
    "import random\n",
    "import numpy as np\n",
    "from cs231n.data_utils import load_CIFAR10\n",
    "import matplotlib.pyplot as plt\n",
    "\n",
    "%matplotlib inline\n",
    "plt.rcParams['figure.figsize'] = (10.0, 8.0) # set default size of plots\n",
    "plt.rcParams['image.interpolation'] = 'nearest'\n",
    "plt.rcParams['image.cmap'] = 'gray'\n",
    "\n",
    "# for auto-reloading extenrnal modules\n",
    "# see http://stackoverflow.com/questions/1907993/autoreload-of-modules-in-ipython\n",
    "%load_ext autoreload\n",
    "%autoreload 2"
   ]
  },
  {
   "cell_type": "code",
   "execution_count": 2,
   "metadata": {
    "tags": [
     "pdf-ignore"
    ]
   },
   "outputs": [
    {
     "name": "stdout",
     "output_type": "stream",
     "text": [
      "Train data shape:  (49000, 3073)\n",
      "Train labels shape:  (49000,)\n",
      "Validation data shape:  (1000, 3073)\n",
      "Validation labels shape:  (1000,)\n",
      "Test data shape:  (1000, 3073)\n",
      "Test labels shape:  (1000,)\n",
      "dev data shape:  (500, 3073)\n",
      "dev labels shape:  (500,)\n"
     ]
    }
   ],
   "source": [
    "def get_CIFAR10_data(num_training=49000, num_validation=1000, num_test=1000, num_dev=500):\n",
    "    \"\"\"\n",
    "    Load the CIFAR-10 dataset from disk and perform preprocessing to prepare\n",
    "    it for the linear classifier. These are the same steps as we used for the\n",
    "    SVM, but condensed to a single function.  \n",
    "    \"\"\"\n",
    "    # Load the raw CIFAR-10 data\n",
    "    cifar10_dir = 'cs231n/datasets/cifar-10-batches-py'\n",
    "    \n",
    "    # Cleaning up variables to prevent loading data multiple times (which may cause memory issue)\n",
    "    try:\n",
    "       del X_train, y_train\n",
    "       del X_test, y_test\n",
    "       print('Clear previously loaded data.')\n",
    "    except:\n",
    "       pass\n",
    "\n",
    "    X_train, y_train, X_test, y_test = load_CIFAR10(cifar10_dir)\n",
    "    \n",
    "    # subsample the data\n",
    "    mask = list(range(num_training, num_training + num_validation))\n",
    "    X_val = X_train[mask]\n",
    "    y_val = y_train[mask]\n",
    "    mask = list(range(num_training))\n",
    "    X_train = X_train[mask]\n",
    "    y_train = y_train[mask]\n",
    "    mask = list(range(num_test))\n",
    "    X_test = X_test[mask]\n",
    "    y_test = y_test[mask]\n",
    "    mask = np.random.choice(num_training, num_dev, replace=False)\n",
    "    X_dev = X_train[mask]\n",
    "    y_dev = y_train[mask]\n",
    "    \n",
    "    # Preprocessing: reshape the image data into rows\n",
    "    X_train = np.reshape(X_train, (X_train.shape[0], -1))\n",
    "    X_val = np.reshape(X_val, (X_val.shape[0], -1))\n",
    "    X_test = np.reshape(X_test, (X_test.shape[0], -1))\n",
    "    X_dev = np.reshape(X_dev, (X_dev.shape[0], -1))\n",
    "    \n",
    "    # Normalize the data: subtract the mean image\n",
    "    mean_image = np.mean(X_train, axis = 0)\n",
    "    X_train -= mean_image\n",
    "    X_val -= mean_image\n",
    "    X_test -= mean_image\n",
    "    X_dev -= mean_image\n",
    "    \n",
    "    # add bias dimension and transform into columns\n",
    "    X_train = np.hstack([X_train, np.ones((X_train.shape[0], 1))])\n",
    "    X_val = np.hstack([X_val, np.ones((X_val.shape[0], 1))])\n",
    "    X_test = np.hstack([X_test, np.ones((X_test.shape[0], 1))])\n",
    "    X_dev = np.hstack([X_dev, np.ones((X_dev.shape[0], 1))])\n",
    "    \n",
    "    return X_train, y_train, X_val, y_val, X_test, y_test, X_dev, y_dev\n",
    "\n",
    "\n",
    "# Invoke the above function to get our data.\n",
    "X_train, y_train, X_val, y_val, X_test, y_test, X_dev, y_dev = get_CIFAR10_data()\n",
    "print('Train data shape: ', X_train.shape)\n",
    "print('Train labels shape: ', y_train.shape)\n",
    "print('Validation data shape: ', X_val.shape)\n",
    "print('Validation labels shape: ', y_val.shape)\n",
    "print('Test data shape: ', X_test.shape)\n",
    "print('Test labels shape: ', y_test.shape)\n",
    "print('dev data shape: ', X_dev.shape)\n",
    "print('dev labels shape: ', y_dev.shape)"
   ]
  },
  {
   "cell_type": "markdown",
   "metadata": {},
   "source": [
    "## Softmax Classifier\n",
    "\n",
    "Your code for this section will all be written inside **cs231n/classifiers/softmax.py**. \n"
   ]
  },
  {
   "cell_type": "code",
   "execution_count": 9,
   "metadata": {},
   "outputs": [
    {
     "name": "stdout",
     "output_type": "stream",
     "text": [
      "loss: 2.321914\n",
      "sanity check: 2.302585\n"
     ]
    }
   ],
   "source": [
    "# First implement the naive softmax loss function with nested loops.\n",
    "# Open the file cs231n/classifiers/softmax.py and implement the\n",
    "# softmax_loss_naive function.\n",
    "\n",
    "from cs231n.classifiers.softmax import softmax_loss_naive\n",
    "import time\n",
    "\n",
    "# Generate a random softmax weight matrix and use it to compute the loss.\n",
    "W = np.random.randn(3073, 10) * 0.0001\n",
    "loss, grad = softmax_loss_naive(W, X_dev, y_dev, 0.0)\n",
    "\n",
    "# As a rough sanity check, our loss should be something close to -log(0.1).\n",
    "print('loss: %f' % loss)\n",
    "print('sanity check: %f' % (-np.log(0.1)))"
   ]
  },
  {
   "cell_type": "markdown",
   "metadata": {
    "tags": [
     "pdf-inline"
    ]
   },
   "source": [
    "**Inline Question 1**\n",
    "\n",
    "Why do we expect our loss to be close to -log(0.1)? Explain briefly.**\n",
    "\n",
    "$\\color{blue}{\\textit Your Answer:}$ We have 10 classes in cifar 10. And we are not training. And random weight initialization give us similar loss to -np.log(0.1), because initially all classses are equally to be choosen.\n",
    "\n"
   ]
  },
  {
   "cell_type": "code",
   "execution_count": 6,
   "metadata": {},
   "outputs": [
    {
     "name": "stdout",
     "output_type": "stream",
     "text": [
      "numerical: 0.670289 analytic: 0.670289, relative error: 4.838778e-08\n",
      "numerical: -2.390721 analytic: -2.390721, relative error: 1.240717e-08\n",
      "numerical: -1.219027 analytic: -1.219027, relative error: 1.054934e-08\n",
      "numerical: -0.956743 analytic: -0.956743, relative error: 3.827035e-08\n",
      "numerical: -0.546269 analytic: -0.546269, relative error: 4.217727e-08\n",
      "numerical: -0.550708 analytic: -0.550708, relative error: 3.008788e-08\n",
      "numerical: -0.617778 analytic: -0.617778, relative error: 1.912444e-09\n",
      "numerical: 1.308816 analytic: 1.308816, relative error: 7.711523e-09\n",
      "numerical: -2.948053 analytic: -2.948052, relative error: 1.006755e-08\n",
      "numerical: -0.379355 analytic: -0.379355, relative error: 4.146748e-08\n",
      "numerical: 2.518043 analytic: 2.518043, relative error: 3.399477e-08\n",
      "numerical: 2.004353 analytic: 2.004353, relative error: 1.859456e-08\n",
      "numerical: 0.293589 analytic: 0.293589, relative error: 1.676612e-07\n",
      "numerical: -2.433871 analytic: -2.433871, relative error: 3.493159e-08\n",
      "numerical: 2.191425 analytic: 2.191425, relative error: 3.392116e-10\n",
      "numerical: -0.404172 analytic: -0.404172, relative error: 4.321043e-08\n",
      "numerical: 0.689951 analytic: 0.689951, relative error: 6.814501e-08\n",
      "numerical: 0.575053 analytic: 0.575053, relative error: 3.035241e-08\n",
      "numerical: 0.293260 analytic: 0.293260, relative error: 1.468291e-07\n",
      "numerical: -0.942599 analytic: -0.942599, relative error: 4.116462e-08\n"
     ]
    }
   ],
   "source": [
    "# Complete the implementation of softmax_loss_naive and implement a (naive)\n",
    "# version of the gradient that uses nested loops.\n",
    "loss, grad = softmax_loss_naive(W, X_dev, y_dev, 0.0)\n",
    "\n",
    "# As we did for the SVM, use numeric gradient checking as a debugging tool.\n",
    "# The numeric gradient should be close to the analytic gradient.\n",
    "from cs231n.gradient_check import grad_check_sparse\n",
    "f = lambda w: softmax_loss_naive(w, X_dev, y_dev, 0.0)[0]\n",
    "grad_numerical = grad_check_sparse(f, W, grad, 10)\n",
    "\n",
    "# similar to SVM case, do another gradient check with regularization\n",
    "loss, grad = softmax_loss_naive(W, X_dev, y_dev, 5e1)\n",
    "f = lambda w: softmax_loss_naive(w, X_dev, y_dev, 5e1)[0]\n",
    "grad_numerical = grad_check_sparse(f, W, grad, 10)"
   ]
  },
  {
   "cell_type": "code",
   "execution_count": 15,
   "metadata": {},
   "outputs": [
    {
     "name": "stdout",
     "output_type": "stream",
     "text": [
      "naive loss: 2.321914e+00 computed in 0.116874s\n",
      "vectorized loss: 2.321914e+00 computed in 0.004683s\n",
      "Loss difference: 0.000000\n",
      "Gradient difference: 0.000000\n"
     ]
    }
   ],
   "source": [
    "# Now that we have a naive implementation of the softmax loss function and its gradient,\n",
    "# implement a vectorized version in softmax_loss_vectorized.\n",
    "# The two versions should compute the same results, but the vectorized version should be\n",
    "# much faster.\n",
    "tic = time.time()\n",
    "loss_naive, grad_naive = softmax_loss_naive(W, X_dev, y_dev, 0.000005)\n",
    "toc = time.time()\n",
    "print('naive loss: %e computed in %fs' % (loss_naive, toc - tic))\n",
    "\n",
    "from cs231n.classifiers.softmax import softmax_loss_vectorized\n",
    "tic = time.time()\n",
    "loss_vectorized, grad_vectorized = softmax_loss_vectorized(W, X_dev, y_dev, 0.000005)\n",
    "toc = time.time()\n",
    "print('vectorized loss: %e computed in %fs' % (loss_vectorized, toc - tic))\n",
    "\n",
    "# As we did for the SVM, we use the Frobenius norm to compare the two versions\n",
    "# of the gradient.\n",
    "grad_difference = np.linalg.norm(grad_naive - grad_vectorized, ord='fro')\n",
    "print('Loss difference: %f' % np.abs(loss_naive - loss_vectorized))\n",
    "print('Gradient difference: %f' % grad_difference)"
   ]
  },
  {
   "cell_type": "code",
   "execution_count": 25,
   "metadata": {
    "tags": [
     "code"
    ]
   },
   "outputs": [
    {
     "name": "stderr",
     "output_type": "stream",
     "text": [
      "\n",
      "  0%|          | 0/49 [00:00<?, ?it/s]\u001b[A\n",
      "  2%|▏         | 1/49 [00:05<04:46,  5.97s/it]\u001b[A\n",
      "  4%|▍         | 2/49 [00:12<04:46,  6.10s/it]\u001b[A\n",
      "  6%|▌         | 3/49 [00:17<04:30,  5.87s/it]\u001b[A\n",
      "  8%|▊         | 4/49 [00:23<04:17,  5.72s/it]\u001b[A\n",
      " 10%|█         | 5/49 [00:28<04:07,  5.62s/it]\u001b[A\n",
      " 12%|█▏        | 6/49 [00:33<03:58,  5.55s/it]\u001b[A\n",
      " 14%|█▍        | 7/49 [00:39<03:51,  5.51s/it]\u001b[A\n",
      " 16%|█▋        | 8/49 [00:44<03:44,  5.49s/it]\u001b[A\n",
      " 18%|█▊        | 9/49 [00:50<03:38,  5.46s/it]\u001b[A\n",
      " 20%|██        | 10/49 [00:55<03:32,  5.44s/it]\u001b[A\n",
      " 22%|██▏       | 11/49 [01:00<03:25,  5.42s/it]\u001b[A\n",
      " 24%|██▍       | 12/49 [01:06<03:19,  5.40s/it]\u001b[A\n",
      " 27%|██▋       | 13/49 [01:11<03:13,  5.39s/it]\u001b[A\n",
      " 29%|██▊       | 14/49 [01:16<03:08,  5.38s/it]\u001b[A\n",
      " 31%|███       | 15/49 [01:22<03:02,  5.37s/it]\u001b[A\n",
      " 33%|███▎      | 16/49 [01:27<02:56,  5.36s/it]\u001b[A\n",
      " 35%|███▍      | 17/49 [01:33<02:52,  5.39s/it]\u001b[A\n",
      " 37%|███▋      | 18/49 [01:38<02:46,  5.38s/it]\u001b[A\n",
      " 39%|███▉      | 19/49 [01:43<02:41,  5.38s/it]\u001b[A\n",
      " 41%|████      | 20/49 [01:49<02:35,  5.37s/it]\u001b[A\n",
      " 43%|████▎     | 21/49 [01:54<02:30,  5.38s/it]\u001b[A\n",
      " 45%|████▍     | 22/49 [01:59<02:24,  5.37s/it]\u001b[A\n",
      " 47%|████▋     | 23/49 [02:05<02:19,  5.37s/it]\u001b[A\n",
      " 49%|████▉     | 24/49 [02:10<02:14,  5.38s/it]\u001b[A\n",
      " 51%|█████     | 25/49 [02:16<02:09,  5.39s/it]\u001b[A\n",
      " 53%|█████▎    | 26/49 [02:21<02:04,  5.40s/it]\u001b[A\n",
      " 55%|█████▌    | 27/49 [02:26<01:58,  5.40s/it]\u001b[A\n",
      " 57%|█████▋    | 28/49 [02:32<01:53,  5.40s/it]\u001b[A\n",
      " 59%|█████▉    | 29/49 [02:37<01:47,  5.39s/it]\u001b[A\n",
      " 61%|██████    | 30/49 [02:43<01:42,  5.38s/it]\u001b[A\n",
      " 63%|██████▎   | 31/49 [02:48<01:36,  5.38s/it]\u001b[A\n",
      " 65%|██████▌   | 32/49 [02:53<01:31,  5.38s/it]\u001b[A\n",
      " 67%|██████▋   | 33/49 [02:59<01:26,  5.38s/it]\u001b[A\n",
      " 69%|██████▉   | 34/49 [03:04<01:20,  5.37s/it]\u001b[A\n",
      " 71%|███████▏  | 35/49 [03:09<01:15,  5.37s/it]\u001b[A\n",
      " 73%|███████▎  | 36/49 [03:15<01:11,  5.48s/it]\u001b[A\n",
      " 76%|███████▌  | 37/49 [03:21<01:05,  5.45s/it]\u001b[A\n",
      " 78%|███████▊  | 38/49 [03:26<00:59,  5.44s/it]\u001b[A\n",
      " 80%|███████▉  | 39/49 [03:31<00:54,  5.43s/it]\u001b[A\n",
      " 82%|████████▏ | 40/49 [03:37<00:48,  5.41s/it]\u001b[A\n",
      " 84%|████████▎ | 41/49 [03:42<00:43,  5.42s/it]\u001b[A\n",
      " 86%|████████▌ | 42/49 [03:48<00:37,  5.40s/it]\u001b[A\n",
      " 88%|████████▊ | 43/49 [03:53<00:32,  5.40s/it]\u001b[A\n",
      " 90%|████████▉ | 44/49 [03:58<00:26,  5.39s/it]\u001b[A\n",
      " 92%|█████████▏| 45/49 [04:04<00:21,  5.39s/it]\u001b[A\n",
      " 94%|█████████▍| 46/49 [04:09<00:16,  5.37s/it]\u001b[A\n",
      " 96%|█████████▌| 47/49 [04:14<00:10,  5.38s/it]\u001b[A\n",
      " 98%|█████████▊| 48/49 [04:20<00:05,  5.36s/it]\u001b[A\n",
      "100%|██████████| 49/49 [04:25<00:00,  5.38s/it]\u001b[A"
     ]
    },
    {
     "name": "stdout",
     "output_type": "stream",
     "text": [
      "lr 1.000000e-07 reg 1.000000e+03 train accuracy: 0.330000 val accuracy: 0.345000\n",
      "lr 1.000000e-07 reg 2.000000e+03 train accuracy: 0.332918 val accuracy: 0.344000\n",
      "lr 1.000000e-07 reg 5.000000e+03 train accuracy: 0.333408 val accuracy: 0.347000\n",
      "lr 1.000000e-07 reg 1.000000e+04 train accuracy: 0.336939 val accuracy: 0.348000\n",
      "lr 1.000000e-07 reg 2.500000e+04 train accuracy: 0.333061 val accuracy: 0.351000\n",
      "lr 1.000000e-07 reg 5.000000e+04 train accuracy: 0.324041 val accuracy: 0.338000\n",
      "lr 1.000000e-07 reg 5.000000e+05 train accuracy: 0.324163 val accuracy: 0.339000\n",
      "lr 2.000000e-07 reg 1.000000e+03 train accuracy: 0.331184 val accuracy: 0.349000\n",
      "lr 2.000000e-07 reg 2.000000e+03 train accuracy: 0.329204 val accuracy: 0.343000\n",
      "lr 2.000000e-07 reg 5.000000e+03 train accuracy: 0.328980 val accuracy: 0.349000\n",
      "lr 2.000000e-07 reg 1.000000e+04 train accuracy: 0.328020 val accuracy: 0.346000\n",
      "lr 2.000000e-07 reg 2.500000e+04 train accuracy: 0.326980 val accuracy: 0.342000\n",
      "lr 2.000000e-07 reg 5.000000e+04 train accuracy: 0.329000 val accuracy: 0.343000\n",
      "lr 2.000000e-07 reg 5.000000e+05 train accuracy: 0.330918 val accuracy: 0.339000\n",
      "lr 5.000000e-07 reg 1.000000e+03 train accuracy: 0.331612 val accuracy: 0.334000\n",
      "lr 5.000000e-07 reg 2.000000e+03 train accuracy: 0.332163 val accuracy: 0.348000\n",
      "lr 5.000000e-07 reg 5.000000e+03 train accuracy: 0.329245 val accuracy: 0.342000\n",
      "lr 5.000000e-07 reg 1.000000e+04 train accuracy: 0.335776 val accuracy: 0.350000\n",
      "lr 5.000000e-07 reg 2.500000e+04 train accuracy: 0.322878 val accuracy: 0.349000\n",
      "lr 5.000000e-07 reg 5.000000e+04 train accuracy: 0.329592 val accuracy: 0.343000\n",
      "lr 5.000000e-07 reg 5.000000e+05 train accuracy: 0.321143 val accuracy: 0.330000\n",
      "lr 1.000000e-06 reg 1.000000e+03 train accuracy: 0.333592 val accuracy: 0.349000\n",
      "lr 1.000000e-06 reg 2.000000e+03 train accuracy: 0.324714 val accuracy: 0.344000\n",
      "lr 1.000000e-06 reg 5.000000e+03 train accuracy: 0.332327 val accuracy: 0.345000\n",
      "lr 1.000000e-06 reg 1.000000e+04 train accuracy: 0.330837 val accuracy: 0.353000\n",
      "lr 1.000000e-06 reg 2.500000e+04 train accuracy: 0.324510 val accuracy: 0.338000\n",
      "lr 1.000000e-06 reg 5.000000e+04 train accuracy: 0.330776 val accuracy: 0.343000\n",
      "lr 1.000000e-06 reg 5.000000e+05 train accuracy: 0.332184 val accuracy: 0.342000\n",
      "lr 2.000000e-06 reg 1.000000e+03 train accuracy: 0.331776 val accuracy: 0.344000\n",
      "lr 2.000000e-06 reg 2.000000e+03 train accuracy: 0.330449 val accuracy: 0.345000\n",
      "lr 2.000000e-06 reg 5.000000e+03 train accuracy: 0.331633 val accuracy: 0.349000\n",
      "lr 2.000000e-06 reg 1.000000e+04 train accuracy: 0.334959 val accuracy: 0.348000\n",
      "lr 2.000000e-06 reg 2.500000e+04 train accuracy: 0.328490 val accuracy: 0.341000\n",
      "lr 2.000000e-06 reg 5.000000e+04 train accuracy: 0.331000 val accuracy: 0.347000\n",
      "lr 2.000000e-06 reg 5.000000e+05 train accuracy: 0.334286 val accuracy: 0.350000\n",
      "lr 1.000000e+05 reg 1.000000e+03 train accuracy: 0.325857 val accuracy: 0.333000\n",
      "lr 1.000000e+05 reg 2.000000e+03 train accuracy: 0.324143 val accuracy: 0.339000\n",
      "lr 1.000000e+05 reg 5.000000e+03 train accuracy: 0.327918 val accuracy: 0.345000\n",
      "lr 1.000000e+05 reg 1.000000e+04 train accuracy: 0.330367 val accuracy: 0.351000\n",
      "lr 1.000000e+05 reg 2.500000e+04 train accuracy: 0.327898 val accuracy: 0.343000\n",
      "lr 1.000000e+05 reg 5.000000e+04 train accuracy: 0.329490 val accuracy: 0.339000\n",
      "lr 1.000000e+05 reg 5.000000e+05 train accuracy: 0.329265 val accuracy: 0.345000\n",
      "lr 5.000000e+06 reg 1.000000e+03 train accuracy: 0.322347 val accuracy: 0.340000\n",
      "lr 5.000000e+06 reg 2.000000e+03 train accuracy: 0.331102 val accuracy: 0.353000\n",
      "lr 5.000000e+06 reg 5.000000e+03 train accuracy: 0.326184 val accuracy: 0.342000\n",
      "lr 5.000000e+06 reg 1.000000e+04 train accuracy: 0.328980 val accuracy: 0.341000\n",
      "lr 5.000000e+06 reg 2.500000e+04 train accuracy: 0.327061 val accuracy: 0.346000\n",
      "lr 5.000000e+06 reg 5.000000e+04 train accuracy: 0.332755 val accuracy: 0.345000\n",
      "lr 5.000000e+06 reg 5.000000e+05 train accuracy: 0.328510 val accuracy: 0.341000\n",
      "best validation accuracy achieved during cross-validation: 0.353000\n"
     ]
    }
   ],
   "source": [
    "# Use the validation set to tune hyperparameters (regularization strength and\n",
    "# learning rate). You should experiment with different ranges for the learning\n",
    "# rates and regularization strengths; if you are careful you should be able to\n",
    "# get a classification accuracy of over 0.35 on the validation set.\n",
    "from tqdm import tqdm\n",
    "from cs231n.classifiers import Softmax\n",
    "results = {}\n",
    "best_val = -1\n",
    "best_softmax = None\n",
    "learning_rates = [1e-7,2e-7, 5e-7,1e-6,2e-6,5e6,1e5]\n",
    "regularization_strengths = [5e5,1e4,2.5e4, 5e4,1e3,2e3,5e3]\n",
    "\n",
    "################################################################################\n",
    "# TODO:                                                                        #\n",
    "# Use the validation set to set the learning rate and regularization strength. #\n",
    "# This should be identical to the validation that you did for the SVM; save    #\n",
    "# the best trained softmax classifer in best_softmax.                          #\n",
    "################################################################################\n",
    "# *****START OF YOUR CODE (DO NOT DELETE/MODIFY THIS LINE)*****\n",
    "\n",
    "NUM_ITERS=2000\n",
    "variants=[(x,y) for x in learning_rates for y in regularization_strengths]\n",
    "for lr,reg in tqdm(variants):\n",
    "    softmax_model = Softmax()\n",
    "    softmax_model.train(X_train, y_train, learning_rate=1e-7, reg=2.5e4,\n",
    "                      num_iters=NUM_ITERS, verbose=True)\n",
    "    y_pred_train=softmax_model.predict(X_train)\n",
    "    y_pred_val=softmax_model.predict(X_val)\n",
    "    training_accuracy=np.mean(y_pred_train==y_train)\n",
    "    validation_accuracy=np.mean(y_pred_val==y_val)\n",
    "    results[lr,reg]=(training_accuracy,validation_accuracy)\n",
    "    if best_val<validation_accuracy:\n",
    "        best_val=validation_accuracy\n",
    "        best_softmax=softmax_model\n",
    "\n",
    "# *****END OF YOUR CODE (DO NOT DELETE/MODIFY THIS LINE)*****\n",
    "    \n",
    "# Print out results.\n",
    "for lr, reg in sorted(results):\n",
    "    train_accuracy, val_accuracy = results[(lr, reg)]\n",
    "    print('lr %e reg %e train accuracy: %f val accuracy: %f' % (\n",
    "                lr, reg, train_accuracy, val_accuracy))\n",
    "    \n",
    "print('best validation accuracy achieved during cross-validation: %f' % best_val)"
   ]
  },
  {
   "cell_type": "code",
   "execution_count": 26,
   "metadata": {},
   "outputs": [
    {
     "name": "stdout",
     "output_type": "stream",
     "text": [
      "softmax on raw pixels final test set accuracy: 0.341000\n"
     ]
    }
   ],
   "source": [
    "# evaluate on test set\n",
    "# Evaluate the best softmax on test set\n",
    "y_test_pred = best_softmax.predict(X_test)\n",
    "test_accuracy = np.mean(y_test == y_test_pred)\n",
    "print('softmax on raw pixels final test set accuracy: %f' % (test_accuracy, ))"
   ]
  },
  {
   "cell_type": "markdown",
   "metadata": {
    "tags": [
     "pdf-inline"
    ]
   },
   "source": [
    "**Inline Question 2** - *True or False*\n",
    "\n",
    "Suppose the overall training loss is defined as the sum of the per-datapoint loss over all training examples. It is possible to add a new datapoint to a training set that would leave the SVM loss unchanged, but this is not the case with the Softmax classifier loss.\n",
    "\n",
    "$\\color{blue}{\\textit Your Answer:}$\n",
    "\n",
    "\n",
    "$\\color{blue}{\\textit Your Explanation:}$\n",
    "\n"
   ]
  },
  {
   "cell_type": "code",
   "execution_count": 27,
   "metadata": {},
   "outputs": [
    {
     "data": {
      "image/png": "[encoded data removed]",
      "text/plain": [
       "<Figure size 432x288 with 10 Axes>"
      ]
     },
     "metadata": {
      "needs_background": "light"
     },
     "output_type": "display_data"
    }
   ],
   "source": [
    "# Visualize the learned weights for each class\n",
    "w = best_softmax.W[:-1,:] # strip out the bias\n",
    "w = w.reshape(32, 32, 3, 10)\n",
    "\n",
    "w_min, w_max = np.min(w), np.max(w)\n",
    "\n",
    "classes = ['plane', 'car', 'bird', 'cat', 'deer', 'dog', 'frog', 'horse', 'ship', 'truck']\n",
    "for i in range(10):\n",
    "    plt.subplot(2, 5, i + 1)\n",
    "    \n",
    "    # Rescale the weights to be between 0 and 255\n",
    "    wimg = 255.0 * (w[:, :, :, i].squeeze() - w_min) / (w_max - w_min)\n",
    "    plt.imshow(wimg.astype('uint8'))\n",
    "    plt.axis('off')\n",
    "    plt.title(classes[i])"
   ]
  },
  {
   "cell_type": "code",
   "execution_count": null,
   "metadata": {},
   "outputs": [],
   "source": []
  }
 ],
 "metadata": {
  "kernelspec": {
   "display_name": "Python 3",
   "language": "python",
   "name": "python3"
  },
  "language_info": {
   "codemirror_mode": {
    "name": "ipython",
    "version": 3
   },
   "file_extension": ".py",
   "mimetype": "text/x-python",
   "name": "python",
   "nbconvert_exporter": "python",
   "pygments_lexer": "ipython3",
   "version": "3.7.3"
  }
 },
 "nbformat": 4,
 "nbformat_minor": 2
}

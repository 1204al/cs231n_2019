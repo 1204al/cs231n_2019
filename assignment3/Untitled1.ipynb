{
 "cells": [
  {
   "cell_type": "code",
   "execution_count": 14,
   "metadata": {},
   "outputs": [
    {
     "name": "stdout",
     "output_type": "stream",
     "text": [
      "3.5.2 (default, Nov 12 2018, 13:43:14) \n",
      "[GCC 5.4.0 20160609]\n"
     ]
    }
   ],
   "source": [
    "import sys\n",
    "print(sys.version)"
   ]
  },
  {
   "cell_type": "code",
   "execution_count": 36,
   "metadata": {},
   "outputs": [
    {
     "name": "stdout",
     "output_type": "stream",
     "text": [
      "[[1 3 3]\n",
      " [0 3 1]]\n",
      "(2, 3)\n",
      "\n",
      "[[ 5  6  7  8]\n",
      " [ 9 10 11 12]\n",
      " [13 13 15 14]\n",
      " [12 11 23  5]]\n",
      "(4, 4)\n",
      "C\n",
      "[[[ 9 10 11 12]\n",
      "  [12 11 23  5]\n",
      "  [12 11 23  5]]\n",
      "\n",
      " [[ 5  6  7  8]\n",
      "  [12 11 23  5]\n",
      "  [ 9 10 11 12]]]\n",
      "(2, 3, 4)\n"
     ]
    }
   ],
   "source": [
    "import numpy as np\n",
    "a=np.array([[1,3,3],[0,3,1]])\n",
    "print(a)\n",
    "print(a.shape)\n",
    "print()\n",
    "b=np.array([[5,6,7,8],[9,10,11,12],[13,13,15,14],[12,11,23,5]])\n",
    "print(b)\n",
    "print(b.shape)\n",
    "\n",
    "c=b[a]\n",
    "print(\"C\")\n",
    "print(c)\n",
    "print(c.shape)"
   ]
  },
  {
   "cell_type": "code",
   "execution_count": 26,
   "metadata": {},
   "outputs": [
    {
     "data": {
      "text/plain": [
       "array([1, 0])"
      ]
     },
     "execution_count": 26,
     "metadata": {},
     "output_type": "execute_result"
    }
   ],
   "source": [
    "b[[1,0]]"
   ]
  },
  {
   "cell_type": "code",
   "execution_count": 37,
   "metadata": {},
   "outputs": [
    {
     "name": "stdout",
     "output_type": "stream",
     "text": [
      "[[1 3 3]\n",
      " [0 3 1]]\n",
      "(2, 3)\n",
      "\n",
      "[5 6 7 8]\n",
      "(4,)\n",
      "C\n",
      "[[6 8 8]\n",
      " [5 8 6]]\n",
      "(2, 3)\n"
     ]
    }
   ],
   "source": [
    "import numpy as np\n",
    "a=np.array([[1,3,3],[0,3,1]])\n",
    "print(a)\n",
    "print(a.shape)\n",
    "print()\n",
    "b=np.array([5,6,7,8])\n",
    "print(b)\n",
    "print(b.shape)\n",
    "\n",
    "c=b[a]\n",
    "print(\"C\")\n",
    "print(c)\n",
    "print(c.shape)"
   ]
  },
  {
   "cell_type": "code",
   "execution_count": 39,
   "metadata": {},
   "outputs": [
    {
     "name": "stdout",
     "output_type": "stream",
     "text": [
      "[[ 0  1  2  3]\n",
      " [ 4  5  6  7]\n",
      " [ 8  9 10 11]]\n",
      "(3, 4)\n",
      "[12 15 18 21]\n"
     ]
    }
   ],
   "source": [
    "a=np.arange(12).reshape(3,4)\n",
    "print(a)\n",
    "print(a.shape)\n",
    "a=np.sum(a,axis=0)\n",
    "print(a)"
   ]
  },
  {
   "cell_type": "code",
   "execution_count": null,
   "metadata": {},
   "outputs": [],
   "source": []
  }
 ],
 "metadata": {
  "kernelspec": {
   "display_name": "Python 3",
   "language": "python",
   "name": "python3"
  },
  "language_info": {
   "codemirror_mode": {
    "name": "ipython",
    "version": 3
   },
   "file_extension": ".py",
   "mimetype": "text/x-python",
   "name": "python",
   "nbconvert_exporter": "python",
   "pygments_lexer": "ipython3",
   "version": "3.5.2"
  }
 },
 "nbformat": 4,
 "nbformat_minor": 4
}
